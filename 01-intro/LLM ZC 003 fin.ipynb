{
 "cells": [
  {
   "cell_type": "code",
   "execution_count": 18,
   "id": "b4ddd95f-6c6c-4369-bd77-ac5bbd715e7a",
   "metadata": {},
   "outputs": [
    {
     "name": "stdout",
     "output_type": "stream",
     "text": [
      "--2024-07-12 20:11:31--  https://raw.githubusercontent.com/DataTalksClub/llm-zoomcamp/main/01-intro/minsearch.py\n",
      "Resolving raw.githubusercontent.com (raw.githubusercontent.com)... 185.199.110.133, 185.199.109.133, 185.199.111.133, ...\n",
      "Connecting to raw.githubusercontent.com (raw.githubusercontent.com)|185.199.110.133|:443... connected.\n",
      "HTTP request sent, awaiting response... 200 OK\n",
      "Length: 3832 (3.7K) [text/plain]\n",
      "Saving to: ‘minsearch.py.2’\n",
      "\n",
      "minsearch.py.2      100%[===================>]   3.74K  --.-KB/s    in 0s      \n",
      "\n",
      "2024-07-12 20:11:31 (44.9 MB/s) - ‘minsearch.py.2’ saved [3832/3832]\n",
      "\n"
     ]
    }
   ],
   "source": [
    "!wget https://raw.githubusercontent.com/DataTalksClub/llm-zoomcamp/main/01-intro/minsearch.py"
   ]
  },
  {
   "cell_type": "code",
   "execution_count": 19,
   "id": "4dcc2a89-bf7f-4e2f-b019-0570dd8f432e",
   "metadata": {},
   "outputs": [],
   "source": [
    "import minsearch"
   ]
  },
  {
   "cell_type": "code",
   "execution_count": 20,
   "id": "b36bd9d1-ba6c-4333-90e1-cdcda7818bc9",
   "metadata": {},
   "outputs": [
    {
     "name": "stdout",
     "output_type": "stream",
     "text": [
      "--2024-07-12 20:11:32--  https://raw.githubusercontent.com/DataTalksClub/llm-zoomcamp/main/01-intro/documents.json\n",
      "Resolving raw.githubusercontent.com (raw.githubusercontent.com)... 185.199.109.133, 185.199.110.133, 185.199.108.133, ...\n",
      "Connecting to raw.githubusercontent.com (raw.githubusercontent.com)|185.199.109.133|:443... connected.\n",
      "HTTP request sent, awaiting response... 200 OK\n",
      "Length: 658332 (643K) [text/plain]\n",
      "Saving to: ‘documents.json.2’\n",
      "\n",
      "documents.json.2    100%[===================>] 642.90K  --.-KB/s    in 0.009s  \n",
      "\n",
      "2024-07-12 20:11:32 (67.5 MB/s) - ‘documents.json.2’ saved [658332/658332]\n",
      "\n"
     ]
    }
   ],
   "source": [
    "!wget https://raw.githubusercontent.com/DataTalksClub/llm-zoomcamp/main/01-intro/documents.json"
   ]
  },
  {
   "cell_type": "code",
   "execution_count": 21,
   "id": "99f3f0da-d3c0-41ed-9845-5d07989c48e6",
   "metadata": {},
   "outputs": [
    {
     "name": "stdout",
     "output_type": "stream",
     "text": [
      "--2024-07-12 20:11:32--  https://raw.githubusercontent.com/DataTalksClub/llm-zoomcamp/main/01-intro/parse-faq.ipynb\n",
      "Resolving raw.githubusercontent.com (raw.githubusercontent.com)... 185.199.111.133, 185.199.108.133, 185.199.109.133, ...\n",
      "Connecting to raw.githubusercontent.com (raw.githubusercontent.com)|185.199.111.133|:443... connected.\n",
      "HTTP request sent, awaiting response... 200 OK\n",
      "Length: 5860 (5.7K) [text/plain]\n",
      "Saving to: ‘parse-faq.ipynb.2’\n",
      "\n",
      "parse-faq.ipynb.2   100%[===================>]   5.72K  --.-KB/s    in 0s      \n",
      "\n",
      "2024-07-12 20:11:32 (27.0 MB/s) - ‘parse-faq.ipynb.2’ saved [5860/5860]\n",
      "\n"
     ]
    }
   ],
   "source": [
    "!wget https://raw.githubusercontent.com/DataTalksClub/llm-zoomcamp/main/01-intro/parse-faq.ipynb"
   ]
  },
  {
   "cell_type": "code",
   "execution_count": 22,
   "id": "c665e805-c80b-48be-8dfd-730089aae68c",
   "metadata": {},
   "outputs": [],
   "source": [
    "import json"
   ]
  },
  {
   "cell_type": "code",
   "execution_count": 23,
   "id": "92b76364-4604-4ad8-8c94-d3a92bfbcfb6",
   "metadata": {},
   "outputs": [],
   "source": [
    "with open('documents.json', 'rt') as f_in:\n",
    "    docs_raw = json.load(f_in)"
   ]
  },
  {
   "cell_type": "code",
   "execution_count": 24,
   "id": "c2eef088-9303-4729-a2b9-1e1034c18ea3",
   "metadata": {},
   "outputs": [
    {
     "data": {
      "text/plain": [
       "{'text': 'It depends on your background and previous experience with modules. It is expected to require about 5 - 15 hours per week. [source1] [source2]\\nYou can also calculate it yourself using this data and then update this answer.',\n",
       " 'section': 'General course-related questions',\n",
       " 'question': 'Course - \\u200b\\u200bHow many hours per week am I expected to spend on this  course?',\n",
       " 'course': 'data-engineering-zoomcamp'}"
      ]
     },
     "execution_count": 24,
     "metadata": {},
     "output_type": "execute_result"
    }
   ],
   "source": [
    "documents = []\n",
    "\n",
    "for course_dict in docs_raw:\n",
    "    for doc in course_dict['documents']:\n",
    "        doc['course'] = course_dict['course']\n",
    "        documents.append(doc)\n",
    "\n",
    "documents[10]"
   ]
  },
  {
   "cell_type": "code",
   "execution_count": 25,
   "id": "996a2f48-7f9c-4c41-a0f2-1e91755d642e",
   "metadata": {},
   "outputs": [],
   "source": [
    "index = minsearch.Index(text_fields=[\"question\",\"text\",\"section\"],keyword_fields=[\"course\"])"
   ]
  },
  {
   "cell_type": "code",
   "execution_count": 26,
   "id": "88067187-5ee0-4632-a0be-d7ab5141ea8a",
   "metadata": {},
   "outputs": [],
   "source": [
    "q = 'the course has already started, can I still join?'"
   ]
  },
  {
   "cell_type": "code",
   "execution_count": 27,
   "id": "eaa45027-a8b9-40d9-b81b-740cfa6985ce",
   "metadata": {},
   "outputs": [
    {
     "data": {
      "text/plain": [
       "<minsearch.Index at 0x779f37278e20>"
      ]
     },
     "execution_count": 27,
     "metadata": {},
     "output_type": "execute_result"
    }
   ],
   "source": [
    "index.fit(documents)"
   ]
  },
  {
   "cell_type": "code",
   "execution_count": 28,
   "id": "335744bb-e459-48b6-8261-735ba7561f59",
   "metadata": {},
   "outputs": [
    {
     "data": {
      "text/plain": [
       "[{'text': \"Yes, even if you don't register, you're still eligible to submit the homeworks.\\nBe aware, however, that there will be deadlines for turning in the final projects. So don't leave everything for the last minute.\",\n",
       "  'section': 'General course-related questions',\n",
       "  'question': 'Course - Can I still join the course after the start date?',\n",
       "  'course': 'data-engineering-zoomcamp'},\n",
       " {'text': \"The purpose of this document is to capture frequently asked technical questions\\nThe exact day and hour of the course will be 15th Jan 2024 at 17h00. The course will start with the first  “Office Hours'' live.1\\nSubscribe to course public Google Calendar (it works from Desktop only).\\nRegister before the course starts using this link.\\nJoin the course Telegram channel with announcements.\\nDon’t forget to register in DataTalks.Club's Slack and join the channel.\",\n",
       "  'section': 'General course-related questions',\n",
       "  'question': 'Course - When will the course start?',\n",
       "  'course': 'data-engineering-zoomcamp'},\n",
       " {'text': 'Yes, we will keep all the materials after the course finishes, so you can follow the course at your own pace after it finishes.\\nYou can also continue looking at the homeworks and continue preparing for the next cohort. I guess you can also start working on your final capstone project.',\n",
       "  'section': 'General course-related questions',\n",
       "  'question': 'Course - Can I follow the course after it finishes?',\n",
       "  'course': 'data-engineering-zoomcamp'}]"
      ]
     },
     "execution_count": 28,
     "metadata": {},
     "output_type": "execute_result"
    }
   ],
   "source": [
    "boost = {'question':3.0, 'section':0.5}\n",
    "\n",
    "index.search(\n",
    "    query=q,\n",
    "    boost_dict=boost,\n",
    "    filter_dict={'course':'data-engineering-zoomcamp'},\n",
    "    num_results=3\n",
    ")\n",
    "    "
   ]
  },
  {
   "cell_type": "code",
   "execution_count": 29,
   "id": "f67e3715-65b4-46de-95b8-c42589995b64",
   "metadata": {},
   "outputs": [],
   "source": [
    "from openai import OpenAI"
   ]
  },
  {
   "cell_type": "code",
   "execution_count": 30,
   "id": "ec962c8b-cf9a-4788-af4a-c48e16d26ab5",
   "metadata": {},
   "outputs": [],
   "source": [
    "client = OpenAI()"
   ]
  },
  {
   "cell_type": "code",
   "execution_count": 33,
   "id": "cfb1583c-bd61-4f5b-b9f2-b29f6f07b609",
   "metadata": {},
   "outputs": [],
   "source": [
    "response = client.chat.completions.create(\n",
    "    model='gpt-4o',\n",
    "    messages=[{\"role\" : \"user\", \"content\" : q}]\n",
    ")"
   ]
  },
  {
   "cell_type": "code",
   "execution_count": 34,
   "id": "a0b38d74-ef65-4149-9864-f1e156fbd1dc",
   "metadata": {},
   "outputs": [
    {
     "data": {
      "text/plain": [
       "ChatCompletion(id='chatcmpl-9kGvcqk4XTozmxIqBaCADJYyt1yZk', choices=[Choice(finish_reason='stop', index=0, logprobs=None, message=ChatCompletionMessage(content=\"It's best to check with the course provider or instructor directly to see if you can still join. Some courses have flexible enrollment periods or late registration options, while others might have stricter deadlines. If it's an online course, there might be more flexibility compared to an in-person class. Additionally, you may need to catch up on any material you missed, so be sure to ask about that as well.\", role='assistant', function_call=None, tool_calls=None))], created=1720815188, model='gpt-4o-2024-05-13', object='chat.completion', service_tier=None, system_fingerprint='fp_d33f7b429e', usage=CompletionUsage(completion_tokens=80, prompt_tokens=18, total_tokens=98))"
      ]
     },
     "execution_count": 34,
     "metadata": {},
     "output_type": "execute_result"
    }
   ],
   "source": [
    "response"
   ]
  },
  {
   "cell_type": "code",
   "execution_count": 35,
   "id": "32fb7bfa-453a-47f8-b17c-8d90ec3c8379",
   "metadata": {},
   "outputs": [
    {
     "data": {
      "text/plain": [
       "\"It's best to check with the course provider or instructor directly to see if you can still join. Some courses have flexible enrollment periods or late registration options, while others might have stricter deadlines. If it's an online course, there might be more flexibility compared to an in-person class. Additionally, you may need to catch up on any material you missed, so be sure to ask about that as well.\""
      ]
     },
     "execution_count": 35,
     "metadata": {},
     "output_type": "execute_result"
    }
   ],
   "source": [
    "response.choices[0].message.content"
   ]
  },
  {
   "cell_type": "code",
   "execution_count": 42,
   "id": "6ba5ab81-eab4-4589-9783-4eae186e29c4",
   "metadata": {},
   "outputs": [],
   "source": [
    "prompt_template = \"\"\"\n",
    "You'are a course teaching assistant for Machine Learning. Answer the question and explain the reasoning behind your answer. Use the context provided to answer that question.\n",
    "Use only the facts provided in the context. If there is no answer, return a generic answer.\n",
    "Be polite and friendly.\n",
    "\n",
    "QUESTION: {question}\n",
    "\n",
    "CONTEXT: {context}\n",
    "\"\"\".strip()"
   ]
  },
  {
   "cell_type": "code",
   "execution_count": 54,
   "id": "f3674663-0b33-48c5-90eb-6d6617415f86",
   "metadata": {},
   "outputs": [],
   "source": [
    "context = \"\"\n",
    "n = 0\n",
    "\n",
    "for doc in documents:\n",
    "    if n < 51:\n",
    "        context = context + f\"section: {doc['section']}\\nquestion: {doc['question']}\\nanswer: {doc['text']}\\n\\n\"\n",
    "        n = n + 1\n",
    "    "
   ]
  },
  {
   "cell_type": "code",
   "execution_count": 55,
   "id": "8d605c69-c8fb-4834-bb63-d5cb40b3089f",
   "metadata": {},
   "outputs": [
    {
     "data": {
      "text/plain": [
       "'section: General course-related questions\\nquestion: Course - When will the course start?\\nanswer: The purpose of this document is to capture frequently asked technical questions\\nThe exact day and hour of the course will be 15th Jan 2024 at 17h00. The course will start with the first  “Office Hours\\'\\' live.1\\nSubscribe to course public Google Calendar (it works from Desktop only).\\nRegister before the course starts using this link.\\nJoin the course Telegram channel with announcements.\\nDon’t forget to register in DataTalks.Club\\'s Slack and join the channel.\\n\\nsection: General course-related questions\\nquestion: Course - What are the prerequisites for this course?\\nanswer: GitHub - DataTalksClub data-engineering-zoomcamp#prerequisites\\n\\nsection: General course-related questions\\nquestion: Course - Can I still join the course after the start date?\\nanswer: Yes, even if you don\\'t register, you\\'re still eligible to submit the homeworks.\\nBe aware, however, that there will be deadlines for turning in the final projects. So don\\'t leave everything for the last minute.\\n\\nsection: General course-related questions\\nquestion: Course - I have registered for the Data Engineering Bootcamp. When can I expect to receive the confirmation email?\\nanswer: You don\\'t need it. You\\'re accepted. You can also just start learning and submitting homework without registering. It is not checked against any registered list. Registration is just to gauge interest before the start date.\\n\\nsection: General course-related questions\\nquestion: Course - What can I do before the course starts?\\nanswer: You can start by installing and setting up all the dependencies and requirements:\\nGoogle cloud account\\nGoogle Cloud SDK\\nPython 3 (installed with Anaconda)\\nTerraform\\nGit\\nLook over the prerequisites and syllabus to see if you are comfortable with these subjects.\\n\\nsection: General course-related questions\\nquestion: Course - how many Zoomcamps in a year?\\nanswer: There are 3 Zoom Camps in a year, as of 2024. However, they are for separate courses:\\nData-Engineering (Jan - Apr)\\nMLOps (May - Aug)\\nMachine Learning (Sep - Jan)\\nThere\\'s only one Data-Engineering Zoomcamp “live” cohort per year, for the certification. Same as for the other Zoomcamps.\\nThey follow pretty much the same schedule for each cohort per zoomcamp. For Data-Engineering it is (generally) from Jan-Apr of the year. If you’re not interested in the Certificate, you can take any zoom camps at any time, at your own pace, out of sync with any “live” cohort.\\n\\nsection: General course-related questions\\nquestion: Course - Is the current cohort going to be different from the previous cohort?\\nanswer: Yes. For the 2024 edition we are using Mage AI instead of Prefect and re-recorded the terraform videos, For 2023, we used Prefect instead of Airflow..\\n\\nsection: General course-related questions\\nquestion: Course - Can I follow the course after it finishes?\\nanswer: Yes, we will keep all the materials after the course finishes, so you can follow the course at your own pace after it finishes.\\nYou can also continue looking at the homeworks and continue preparing for the next cohort. I guess you can also start working on your final capstone project.\\n\\nsection: General course-related questions\\nquestion: Course - Can I get support if I take the course in the self-paced mode?\\nanswer: Yes, the slack channel remains open and you can ask questions there. But always sDocker containers exit code w search the channel first and second, check the FAQ (this document), most likely all your questions are already answered here.\\nYou can also tag the bot @ZoomcampQABot to help you conduct the search, but don’t rely on its answers 100%, it is pretty good though.\\n\\nsection: General course-related questions\\nquestion: Course - Which playlist on YouTube should I refer to?\\nanswer: All the main videos are stored in the Main “DATA ENGINEERING” playlist (no year specified). The Github repository has also been updated to show each video with a thumbnail, that would bring you directly to the same playlist below.\\nBelow is the MAIN PLAYLIST’. And then you refer to the year specific playlist for additional videos for that year like for office hours videos etc. Also find this playlist pinned to the slack channel.\\nh\\nttps://youtube.com/playlist?list=PL3MmuxUbc_hJed7dXYoJw8DoCuVHhGEQb&si=NspQhtZhZQs1B9F-\\n\\nsection: General course-related questions\\nquestion: Course - \\u200b\\u200bHow many hours per week am I expected to spend on this  course?\\nanswer: It depends on your background and previous experience with modules. It is expected to require about 5 - 15 hours per week. [source1] [source2]\\nYou can also calculate it yourself using this data and then update this answer.\\n\\nsection: General course-related questions\\nquestion: Certificate - Can I follow the course in a self-paced mode and get a certificate?\\nanswer: No, you can only get a certificate if you finish the course with a “live” cohort. We don\\'t award certificates for the self-paced mode. The reason is you need to peer-review capstone(s) after submitting a project. You can only peer-review projects at the time the course is running.\\n\\nsection: General course-related questions\\nquestion: Office Hours - What is the video/zoom link to the stream for the “Office Hour” or workshop sessions?\\nanswer: The zoom link is only published to instructors/presenters/TAs.\\nStudents participate via Youtube Live and submit questions to Slido (link would be pinned in the chat when Alexey goes Live). The video URL should be posted in the announcements channel on Telegram & Slack before it begins. Also, you will see it live on the DataTalksClub YouTube Channel.\\nDon’t post your questions in chat as it would be off-screen before the instructors/moderators have a chance to answer it if the room is very active.\\n\\nsection: General course-related questions\\nquestion: Office Hours - I can’t attend the “Office hours” / workshop, will it be recorded?\\nanswer: Yes! Every “Office Hours” will be recorded and available a few minutes after the live session is over; so you can view (or rewatch) whenever you want.\\n\\nsection: General course-related questions\\nquestion: Homework - What are homework and project deadlines?\\nanswer: You can find the latest and up-to-date deadlines here: https://docs.google.com/spreadsheets/d/e/2PACX-1vQACMLuutV5rvXg5qICuJGL-yZqIV0FBD84CxPdC5eZHf8TfzB-CJT_3Mo7U7oGVTXmSihPgQxuuoku/pubhtml\\nAlso, take note of Announcements from @Au-Tomator for any extensions or other news. Or, the form may also show the updated deadline, if Instructor(s) has updated it.\\n\\nsection: General course-related questions\\nquestion: Homework - Are late submissions of homework allowed?\\nanswer: No, late submissions are not allowed. But if the form is still not closed and it’s after the due date, you can still submit the homework. confirm your submission by the date-timestamp on the Course page.y\\nOlder news:[source1] [source2]\\n\\nsection: General course-related questions\\nquestion: Homework - What is the homework URL in the homework link?\\nanswer: Answer: In short, it’s your repository on github, gitlab, bitbucket, etc\\nIn long, your repository or any other location you have your code where a reasonable person would look at it and think yes, you went through the week and exercises.\\n\\nsection: General course-related questions\\nquestion: Homework and Leaderboard - what is the system for points in the course management platform?\\nanswer: After you submit your homework it will be graded based on the amount of questions in a particular homework. You can see how many points you have right on the page of the homework up top. Additionally in the leaderboard you will find the sum of all points you’ve earned - points for Homeworks, FAQs and Learning in Public. If homework is clear, others work as follows: if you submit something to FAQ, you get one point, for each learning in a public link you get one point.\\n(https://datatalks-club.slack.com/archives/C01FABYF2RG/p1706846846359379?thread_ts=1706825019.546229&cid=C01FABYF2RG)\\n\\nsection: General course-related questions\\nquestion: Leaderboard - I am not on the leaderboard / how do I know which one I am on the leaderboard?\\nanswer: When you set up your account you are automatically assigned a random name such as “Lucid Elbakyan” for example. If you want to see what your Display name is.\\nGo to the Homework submission link →  https://courses.datatalks.club/de-zoomcamp-2024/homework/hw2 - Log in > Click on ‘Data Engineering Zoom Camp 2024’ > click on ‘Edit Course Profile’ - your display name is here, you can also change it should you wish:\\n\\nsection: General course-related questions\\nquestion: Environment - Is Python 3.9 still the recommended version to use in 2024?\\nanswer: Yes, for simplicity (of troubleshooting against the recorded videos) and stability. [source]\\nBut Python 3.10 and 3.11 should work fine.\\n\\nsection: General course-related questions\\nquestion: Environment - Should I use my local machine, GCP, or GitHub Codespaces for my environment?\\nanswer: You can set it up on your laptop or PC if you prefer to work locally from your laptop or PC.\\nYou might face some challenges, especially for Windows users. If you face cnd2\\nIf you prefer to work on the local machine, you may start with the week 1 Introduction to Docker and follow through.\\nHowever, if you prefer to set up a virtual machine, you may start with these first:\\nUsing GitHub Codespaces\\nSetting up the environment on a cloudV Mcodespace\\nI decided to work on a virtual machine because I have different laptops & PCs for my home & office, so I can work on this boot camp virtually anywhere.\\n\\nsection: General course-related questions\\nquestion: Environment - Is GitHub codespaces an alternative to using cli/git bash to ingest the data and create a docker file?\\nanswer: GitHub Codespaces offers you computing Linux resources with many pre-installed tools (Docker, Docker Compose, Python).\\nYou can also open any GitHub repository in a GitHub Codespace.\\n\\nsection: General course-related questions\\nquestion: Environment - Do we really have to use GitHub codespaces? I already have PostgreSQL & Docker installed.\\nanswer: It\\'s up to you which platform and environment you use for the course.\\nGithub codespaces or GCP VM are just possible options, but you can do the entire course from your laptop.\\n\\nsection: General course-related questions\\nquestion: Environment - Do I need both GitHub Codespaces and GCP?\\nanswer: Choose the approach that aligns the most with your idea for the end project\\nOne of those should suffice. However, BigQuery, which is part of GCP, will be used, so learning that is probably a better option. Or you can set up a local environment for most of this course.\\n\\nsection: General course-related questions\\nquestion: This happens when attempting to connect to a GCP VM using VSCode on a Windows machine. Changing registry value in registry editor\\nanswer: 1. To open Run command window, you can either:\\n(1-1) Use the shortcut keys: \\'Windows + R\\', or\\n(1-2) Right Click \"Start\", and click \"Run\" to open.\\n2. Registry Values Located in Registry Editor, to open it: Type \\'regedit\\' in the Run command window, and then press Enter.\\' 3. Now you can change the registry values \"Autorun\" in \"HKEY_CURRENT_USER\\\\Software\\\\Microsoft\\\\Command Processor\" from \"if exists\" to a blank.\\nAlternatively, You can simplify the solution by deleting the fingerprint saved within the known_hosts file. In Windows, this file is placed at  C:\\\\Users\\\\<your_user_name>\\\\.ssh\\\\known_host\\n\\nsection: General course-related questions\\nquestion: Environment - Why are we using GCP and not other cloud providers?\\nanswer: For uniformity at least, but you’re not restricted to GCP, you can use other cloud platforms like AWS if you’re comfortable with other cloud platforms, since you get every service that’s been provided by GCP in Azure and AWS or others..\\nBecause everyone has a google account, GCP has a free trial period and gives $300 in credits  to new users. Also, we are working with BigQuery, which is a part of GCP.\\nNote that to sign up for a free GCP account, you must have a valid credit card.\\n\\nsection: General course-related questions\\nquestion: Should I pay for cloud services?\\nanswer: No, if you use GCP and take advantage of their free trial.\\n\\nsection: General course-related questions\\nquestion: Environment - The GCP and other cloud providers are unavailable in some countries. Is it possible to provide a guide to installing a home lab?\\nanswer: You can do most of the course without a cloud. Almost everything we use (excluding BigQuery) can be run locally. We won’t be able to provide guidelines for some things, but most of the materials are runnable without GCP.\\nFor everything in the course, there’s a local alternative. You could even do the whole course locally.\\n\\nsection: General course-related questions\\nquestion: Environment - I want to use AWS. May I do that?\\nanswer: Yes, you can. Just remember to adapt all the information on the videos to AWS. Besides, the final capstone will be evaluated based on the task: Create a data pipeline! Develop a visualisation!\\nThe problem would be when you need help. You’d need to rely on  fellow coursemates who also use AWS (or have experience using it before), which might be in smaller numbers than those learning the course with GCP.\\nAlso see Is it possible to use x tool instead of the one tool you use?\\n\\nsection: General course-related questions\\nquestion: Besides the “Office Hour” which are the live zoom calls?\\nanswer: We will probably have some calls during the Capstone period to clear some questions but it will be announced in advance if that happens.\\n\\nsection: General course-related questions\\nquestion: Are we still using the NYC Trip data for January 2021? Or are we using the 2022 data?\\nanswer: We will use the same data, as the project will essentially remain the same as last year’s. The data is available here\\n\\nsection: General course-related questions\\nquestion: Is the 2022 repo deleted?\\nanswer: No, but we moved the 2022 stuff here\\n\\nsection: General course-related questions\\nquestion: Can I use Airflow instead for my final project?\\nanswer: Yes, you can use any tool you want for your project.\\n\\nsection: General course-related questions\\nquestion: Is it possible to use tool “X” instead of the one tool you use in the course?\\nanswer: Yes, this applies if you want to use Airflow or Prefect instead of Mage, AWS or Snowflake instead of GCP products or Tableau instead of Metabase or Google data studio.\\nThe course covers 2 alternative data stacks, one using GCP and one using local installation of everything. You can use one of them or use your tool of choice.\\nShould you consider it instead of the one tool you use? That we can’t support you if you choose to use a different stack, also you would need to explain the different choices of tool for the peer review of your capstone project.\\n\\nsection: General course-related questions\\nquestion: How can we contribute to the course?\\nanswer: Star the repo! Share it with friends if you find it useful ❣️\\nCreate a PR if you see you can improve the text or the structure of the repository.\\n\\nsection: General course-related questions\\nquestion: Environment - Is the course [Windows/mac/Linux/...] friendly?\\nanswer: Yes! Linux is ideal but technically it should not matter. Students last year used all 3 OSes successfully\\n\\nsection: General course-related questions\\nquestion: Environment - Roadblock for Windows users in modules with *.sh (shell scripts).\\nanswer: Have no idea how past cohorts got past this as I haven\\'t read old slack messages, and no FAQ entries that I can find.\\nLater modules (module-05 & RisingWave workshop) use shell scripts in *.sh files and most Windows users not using WSL would hit a wall and cannot continue, even in git bash or MINGW64. This is why WSL environment setup is recommended from the start.\\n\\nsection: General course-related questions\\nquestion: Any books or additional resources you recommend?\\nanswer: Yes to both! check out this document: https://github.com/DataTalksClub/data-engineering-zoomcamp/blob/main/awesome-data-engineering.md\\n\\nsection: General course-related questions\\nquestion: Project - What is Project Attemp #1 and Project Attempt #2 exactly?\\nanswer: You will have two attempts for a project. If the first project deadline is over and you’re late or you submit the project and fail the first attempt, you have another chance to submit the project with the second attempt.\\n\\nsection: General course-related questions\\nquestion: How to troubleshoot issues\\nanswer: The first step is to try to solve the issue on your own. Get used to solving problems and reading documentation. This will be a real life skill you need when employed. [ctrl+f] is your friend, use it! It is a universal shortcut and works in all apps/browsers.\\nWhat does the error say? There will often be a description of the error or instructions on what is needed or even how to fix it. I have even seen a link to the solution. Does it reference a specific line of your code?\\nRestart app or server/pc.\\nGoogle it, use ChatGPT, Bing AI etc.\\nIt is going to be rare that you are the first to have the problem, someone out there has posted the fly issue and likely the solution.\\nSearch using: <technology> <problem statement>. Example: pgcli error column c.relhasoids does not exist.\\nThere are often different solutions for the same problem due to variation in environments.\\nCheck the tech’s documentation. Use its search if available or use the browsers search function.\\nTry uninstall (this may remove the bad actor) and reinstall of application or reimplementation of action. Remember to restart the server/pc for reinstalls.\\nSometimes reinstalling fails to resolve the issue but works if you uninstall first.\\nPost your question to Stackoverflow. Read the Stackoverflow guide on posting good questions.\\nhttps://stackoverflow.com/help/how-to-ask\\nThis will be your real life. Ask an expert in the future (in addition to coworkers).\\nAsk in Slack\\nBefore asking a question,\\nCheck Pins (where the shortcut to the repo and this FAQ is located)\\nUse the slack app’s search function\\nUse the bot @ZoomcampQABot to do the search for you\\ncheck the FAQ (this document), use search [ctrl+f]\\nWhen asking a question, include as much information as possible:\\nWhat are you coding on? What OS?\\nWhat command did you run, which video did you follow? Etc etc\\nWhat error did you get? Does it have a line number to the “offending” code and have you check it for typos?\\nWhat have you tried that did not work? This answer is crucial as without it, helpers would ask you to do the suggestions in the error log first. Or just read this FAQ document.\\nDO NOT use screenshots, especially don’t take pictures from a phone.\\nDO NOT tag instructors, it may discourage others from helping you. Copy and paste errors; if it’s long, just post it in a reply to your thread.\\nUse ``` for formatting your code.\\nUse the same thread for the conversation (that means reply to your own thread).\\nDO NOT create multiple posts to discuss the issue.\\nlearYou may create a new post if the issue reemerges down the road. Describe what has changed in the environment.\\nProvide additional information in the same thread of the steps you have taken for resolution.\\nTake a break and come back later. You will be amazed at how often you figure out the solution after letting your brain rest. Get some fresh air, workout, play a video game, watch a tv show, whatever allows your brain to not think about it for a little while or even until the next day.\\nRemember technology issues in real life sometimes take days or even weeks to resolve.\\nIf somebody helped you with your problem and it\\'s not in the FAQ, please add it there. It will help other students.\\n\\nsection: General course-related questions\\nquestion: How to ask questions\\nanswer: When the troubleshooting guide above does not help resolve it and you need another pair of eyeballs to spot mistakes. When asking a question, include as much information as possible:\\nWhat are you coding on? What OS?\\nWhat command did you run, which video did you follow? Etc etc\\nWhat error did you get? Does it have a line number to the “offending” code and have you check it for typos?\\nWhat have you tried that did not work? This answer is crucial as without it, helpers would ask you to do the suggestions in the error log first. Or just read this FAQ document.\\n\\nsection: General course-related questions\\nquestion: How do I use Git / GitHub for this course?\\nanswer: After you create a GitHub account, you should clone the course repo to your local machine using the process outlined in this video: Git for Everybody: How to Clone a Repository from GitHub\\nHaving this local repository on your computer will make it easy for you to access the instructors’ code and make pull requests (if you want to add your own notes or make changes to the course content).\\nYou will probably also create your own repositories that host your notes, versions of your file, to do this. Here is a great tutorial that shows you how to do this: https://www.atlassian.com/git/tutorials/setting-up-a-repository\\nRemember to ignore large database, .csv, and .gz files, and other files that should not be saved to a repository. Use .gitignore for this: https://www.atlassian.com/git/tutorials/saving-changes/gitignore NEVER store passwords or keys in a git repo (even if that repo is set to private).\\nThis is also a great resource: https://dangitgit.com/\\n\\nsection: General course-related questions\\nquestion: VS Code: Tab using spaces\\nanswer: Error: Makefile:2: *** missing separator.  Stop.\\nSolution: Tabs in document should be converted to Tab instead of spaces. Follow this stack.\\n\\nsection: General course-related questions\\nquestion: Opening an HTML file with a Windows browser from Linux running on WSL\\nanswer: If you’re running Linux on Windows Subsystem for Linux (WSL) 2, you can open HTML files from the guest (Linux) with whatever Internet Browser you have installed on the host (Windows). Just install wslu and open the page with wslview <file>, for example:\\nwslview index.html\\nYou can customise which browser to use by setting the BROWSER environment variable first. For example:\\nexport BROWSER=\\'/mnt/c/Program Files/Firefox/firefox.exe\\'\\n\\nsection: Module 1: Docker and Terraform\\nquestion: Set up Chrome Remote Desktop for Linux on Compute Engine\\nanswer: This tutorial shows you how to set up the Chrome Remote Desktop service on a Debian Linux virtual machine (VM) instance on Compute Engine. Chrome Remote Desktop allows you to remotely access applications with a graphical user interface.\\nTaxi Data - Yellow Taxi Trip Records downloading error, Error no or XML error webpage\\nWhen you try to download the 2021 data from TLC website, you get this error:\\nIf you click on the link, and ERROR 403: Forbidden on the terminal.\\nWe have a backup, so use it instead: https://github.com/DataTalksClub/nyc-tlc-data\\nSo the link should be https://github.com/DataTalksClub/nyc-tlc-data/releases/download/yellow/yellow_tripdata_2021-01.csv.gz\\nNote: Make sure to unzip the “gz” file (no, the “unzip” command won’t work for this.)\\n“gzip -d file.gz”g\\n\\nsection: Module 1: Docker and Terraform\\nquestion: Taxi Data - How to handle taxi data files, now that the files are available as *.csv.gz?\\nanswer: In this video, we store the data file as “output.csv”. The data file won’t store correctly if the file extension is csv.gz instead of csv. One alternative is to replace csv_name = “output.cs -v” with the file name given at the end of the URL. Notice that the URL for the yellow taxi data is: https://github.com/DataTalksClub/nyc-tlc-data/releases/download/yellow/yellow_tripdata_2021-01.csv.gz where the highlighted part is the name of the file. We can parse this file name from the URL and use it as csv_name. That is, we can replace csv_name = “output.csv” with\\ncsv_name = url.split(“/”)[-1] . Then when we use csv_name to using pd.read_csv, there won’t be an issue even though the file name really has the extension csv.gz instead of csv since the pandas read_csv function can read csv.gz files directly.\\n\\nsection: Module 1: Docker and Terraform\\nquestion: Taxi Data - Data Dictionary for NY Taxi data?\\nanswer: Yellow Trips: https://www1.nyc.gov/assets/tlc/downloads/pdf/data_dictionary_trip_records_yellow.pdf\\nGreen Trips: https://www1.nyc.gov/assets/tlc/downloads/pdf/data_dictionary_trip_records_green.pdf\\n\\nsection: Module 1: Docker and Terraform\\nquestion: Taxi Data - Unzip Parquet file\\nanswer: You can unzip this downloaded parquet file, in the command line. The result is a csv file which can be imported with pandas using the pd.read_csv() shown in the videos.\\n‘’’gunzip green_tripdata_2019-09.csv.gz’’’\\nSOLUTION TO USING PARQUET FILES DIRECTLY IN PYTHON SCRIPT ingest_data.py\\nIn the def main(params) add this line\\nparquet_name= \\'output.parquet\\'\\nThen edit the code which downloads the files\\nos.system(f\"wget {url} -O {parquet_name}\")\\nConvert the download .parquet file to csv and rename as csv_name to keep it relevant to the rest of the code\\ndf = pd.read_parquet(parquet_name)\\ndf.to_csv(csv_name, index=False)\\n\\nsection: Module 1: Docker and Terraform\\nquestion: lwget is not recognized as an internal or external command\\nanswer: “wget is not recognized as an internal or external command”, you need to install it.\\nOn Ubuntu, run:\\n$ sudo apt-get install wget\\nOn MacOS, the easiest way to install wget is to use Brew:\\n$ brew install wget\\nOn Windows, the easiest way to install wget is to use Chocolatey:\\n$ choco install wget\\nOr you can download a binary (https://gnuwin32.sourceforge.net/packages/wget.htm) and put it to any location in your PATH (e.g. C:/tools/)\\nAlso, you can following this step to install Wget on MS Windows\\n* Download the latest wget binary for windows from [eternallybored] (https://eternallybored.org/misc/wget/) (they are available as a zip with documentation, or just an exe)\\n* If you downloaded the zip, extract all (if windows built in zip utility gives an error, use [7-zip] (https://7-zip.org/)).\\n* Rename the file `wget64.exe` to `wget.exe` if necessary.\\n* Move wget.exe to your `Git\\\\mingw64\\\\bin\\\\`.\\nAlternatively, you can use a Python wget library, but instead of simply using “wget” you’ll need to use\\npython -m wget\\nYou need to install it with pip first:\\npip install wget\\nAlternatively, you can just paste the file URL into your web browser and download the file normally that way. You’ll want to move the resulting file into your working directory.\\nAlso recommended a look at the python library requests for the loading gz file  https://pypi.org/project/requests\\n\\nsection: Module 1: Docker and Terraform\\nquestion: wget - ERROR: cannot verify <website> certificate  (MacOS)\\nanswer: Firstly, make sure that you add “!” before wget if you’re running your command in a Jupyter Notebook or CLI. Then, you can check one of this 2 things (from CLI):\\nUsing the Python library wget you installed with pip, try python -m wget <url>\\nWrite the usual command and add --no-check-certificate at the end. So it should be:\\n!wget <website_url> --no-check-certificate\\n\\nsection: Module 1: Docker and Terraform\\nquestion: Git Bash - Backslash as an escape character in Git Bash for Windows\\nanswer: For those who wish to use the backslash as an escape character in Git Bash for Windows (as Alexey normally does), type in the terminal: bash.escapeChar=\\\\ (no need to include in .bashrc)\\n\\n'"
      ]
     },
     "execution_count": 55,
     "metadata": {},
     "output_type": "execute_result"
    }
   ],
   "source": [
    "context"
   ]
  },
  {
   "cell_type": "code",
   "execution_count": 56,
   "id": "55c378b0-f527-4d0e-86ed-fe5cfe1c41c6",
   "metadata": {},
   "outputs": [],
   "source": [
    "prompt = prompt_template.format(question=q, context=context).strip()"
   ]
  },
  {
   "cell_type": "code",
   "execution_count": 57,
   "id": "5e941e14-8aed-4dfb-b8b4-f3b5bac08bbe",
   "metadata": {},
   "outputs": [
    {
     "name": "stdout",
     "output_type": "stream",
     "text": [
      "You'are a course teaching assistant for Machine Learning. Answer the question and explain the reasoning behind your answer. Use the context provided to answer that question.\n",
      "Use only the facts provided in the context. If there is no answer, return a generic answer.\n",
      "Be polite and friendly.\n",
      "\n",
      "QUESTION: the course has already started, can I still join?\n",
      "\n",
      "CONTEXT: section: General course-related questions\n",
      "question: Course - When will the course start?\n",
      "answer: The purpose of this document is to capture frequently asked technical questions\n",
      "The exact day and hour of the course will be 15th Jan 2024 at 17h00. The course will start with the first  “Office Hours'' live.1\n",
      "Subscribe to course public Google Calendar (it works from Desktop only).\n",
      "Register before the course starts using this link.\n",
      "Join the course Telegram channel with announcements.\n",
      "Don’t forget to register in DataTalks.Club's Slack and join the channel.\n",
      "\n",
      "section: General course-related questions\n",
      "question: Course - What are the prerequisites for this course?\n",
      "answer: GitHub - DataTalksClub data-engineering-zoomcamp#prerequisites\n",
      "\n",
      "section: General course-related questions\n",
      "question: Course - Can I still join the course after the start date?\n",
      "answer: Yes, even if you don't register, you're still eligible to submit the homeworks.\n",
      "Be aware, however, that there will be deadlines for turning in the final projects. So don't leave everything for the last minute.\n",
      "\n",
      "section: General course-related questions\n",
      "question: Course - I have registered for the Data Engineering Bootcamp. When can I expect to receive the confirmation email?\n",
      "answer: You don't need it. You're accepted. You can also just start learning and submitting homework without registering. It is not checked against any registered list. Registration is just to gauge interest before the start date.\n",
      "\n",
      "section: General course-related questions\n",
      "question: Course - What can I do before the course starts?\n",
      "answer: You can start by installing and setting up all the dependencies and requirements:\n",
      "Google cloud account\n",
      "Google Cloud SDK\n",
      "Python 3 (installed with Anaconda)\n",
      "Terraform\n",
      "Git\n",
      "Look over the prerequisites and syllabus to see if you are comfortable with these subjects.\n",
      "\n",
      "section: General course-related questions\n",
      "question: Course - how many Zoomcamps in a year?\n",
      "answer: There are 3 Zoom Camps in a year, as of 2024. However, they are for separate courses:\n",
      "Data-Engineering (Jan - Apr)\n",
      "MLOps (May - Aug)\n",
      "Machine Learning (Sep - Jan)\n",
      "There's only one Data-Engineering Zoomcamp “live” cohort per year, for the certification. Same as for the other Zoomcamps.\n",
      "They follow pretty much the same schedule for each cohort per zoomcamp. For Data-Engineering it is (generally) from Jan-Apr of the year. If you’re not interested in the Certificate, you can take any zoom camps at any time, at your own pace, out of sync with any “live” cohort.\n",
      "\n",
      "section: General course-related questions\n",
      "question: Course - Is the current cohort going to be different from the previous cohort?\n",
      "answer: Yes. For the 2024 edition we are using Mage AI instead of Prefect and re-recorded the terraform videos, For 2023, we used Prefect instead of Airflow..\n",
      "\n",
      "section: General course-related questions\n",
      "question: Course - Can I follow the course after it finishes?\n",
      "answer: Yes, we will keep all the materials after the course finishes, so you can follow the course at your own pace after it finishes.\n",
      "You can also continue looking at the homeworks and continue preparing for the next cohort. I guess you can also start working on your final capstone project.\n",
      "\n",
      "section: General course-related questions\n",
      "question: Course - Can I get support if I take the course in the self-paced mode?\n",
      "answer: Yes, the slack channel remains open and you can ask questions there. But always sDocker containers exit code w search the channel first and second, check the FAQ (this document), most likely all your questions are already answered here.\n",
      "You can also tag the bot @ZoomcampQABot to help you conduct the search, but don’t rely on its answers 100%, it is pretty good though.\n",
      "\n",
      "section: General course-related questions\n",
      "question: Course - Which playlist on YouTube should I refer to?\n",
      "answer: All the main videos are stored in the Main “DATA ENGINEERING” playlist (no year specified). The Github repository has also been updated to show each video with a thumbnail, that would bring you directly to the same playlist below.\n",
      "Below is the MAIN PLAYLIST’. And then you refer to the year specific playlist for additional videos for that year like for office hours videos etc. Also find this playlist pinned to the slack channel.\n",
      "h\n",
      "ttps://youtube.com/playlist?list=PL3MmuxUbc_hJed7dXYoJw8DoCuVHhGEQb&si=NspQhtZhZQs1B9F-\n",
      "\n",
      "section: General course-related questions\n",
      "question: Course - ​​How many hours per week am I expected to spend on this  course?\n",
      "answer: It depends on your background and previous experience with modules. It is expected to require about 5 - 15 hours per week. [source1] [source2]\n",
      "You can also calculate it yourself using this data and then update this answer.\n",
      "\n",
      "section: General course-related questions\n",
      "question: Certificate - Can I follow the course in a self-paced mode and get a certificate?\n",
      "answer: No, you can only get a certificate if you finish the course with a “live” cohort. We don't award certificates for the self-paced mode. The reason is you need to peer-review capstone(s) after submitting a project. You can only peer-review projects at the time the course is running.\n",
      "\n",
      "section: General course-related questions\n",
      "question: Office Hours - What is the video/zoom link to the stream for the “Office Hour” or workshop sessions?\n",
      "answer: The zoom link is only published to instructors/presenters/TAs.\n",
      "Students participate via Youtube Live and submit questions to Slido (link would be pinned in the chat when Alexey goes Live). The video URL should be posted in the announcements channel on Telegram & Slack before it begins. Also, you will see it live on the DataTalksClub YouTube Channel.\n",
      "Don’t post your questions in chat as it would be off-screen before the instructors/moderators have a chance to answer it if the room is very active.\n",
      "\n",
      "section: General course-related questions\n",
      "question: Office Hours - I can’t attend the “Office hours” / workshop, will it be recorded?\n",
      "answer: Yes! Every “Office Hours” will be recorded and available a few minutes after the live session is over; so you can view (or rewatch) whenever you want.\n",
      "\n",
      "section: General course-related questions\n",
      "question: Homework - What are homework and project deadlines?\n",
      "answer: You can find the latest and up-to-date deadlines here: https://docs.google.com/spreadsheets/d/e/2PACX-1vQACMLuutV5rvXg5qICuJGL-yZqIV0FBD84CxPdC5eZHf8TfzB-CJT_3Mo7U7oGVTXmSihPgQxuuoku/pubhtml\n",
      "Also, take note of Announcements from @Au-Tomator for any extensions or other news. Or, the form may also show the updated deadline, if Instructor(s) has updated it.\n",
      "\n",
      "section: General course-related questions\n",
      "question: Homework - Are late submissions of homework allowed?\n",
      "answer: No, late submissions are not allowed. But if the form is still not closed and it’s after the due date, you can still submit the homework. confirm your submission by the date-timestamp on the Course page.y\n",
      "Older news:[source1] [source2]\n",
      "\n",
      "section: General course-related questions\n",
      "question: Homework - What is the homework URL in the homework link?\n",
      "answer: Answer: In short, it’s your repository on github, gitlab, bitbucket, etc\n",
      "In long, your repository or any other location you have your code where a reasonable person would look at it and think yes, you went through the week and exercises.\n",
      "\n",
      "section: General course-related questions\n",
      "question: Homework and Leaderboard - what is the system for points in the course management platform?\n",
      "answer: After you submit your homework it will be graded based on the amount of questions in a particular homework. You can see how many points you have right on the page of the homework up top. Additionally in the leaderboard you will find the sum of all points you’ve earned - points for Homeworks, FAQs and Learning in Public. If homework is clear, others work as follows: if you submit something to FAQ, you get one point, for each learning in a public link you get one point.\n",
      "(https://datatalks-club.slack.com/archives/C01FABYF2RG/p1706846846359379?thread_ts=1706825019.546229&cid=C01FABYF2RG)\n",
      "\n",
      "section: General course-related questions\n",
      "question: Leaderboard - I am not on the leaderboard / how do I know which one I am on the leaderboard?\n",
      "answer: When you set up your account you are automatically assigned a random name such as “Lucid Elbakyan” for example. If you want to see what your Display name is.\n",
      "Go to the Homework submission link →  https://courses.datatalks.club/de-zoomcamp-2024/homework/hw2 - Log in > Click on ‘Data Engineering Zoom Camp 2024’ > click on ‘Edit Course Profile’ - your display name is here, you can also change it should you wish:\n",
      "\n",
      "section: General course-related questions\n",
      "question: Environment - Is Python 3.9 still the recommended version to use in 2024?\n",
      "answer: Yes, for simplicity (of troubleshooting against the recorded videos) and stability. [source]\n",
      "But Python 3.10 and 3.11 should work fine.\n",
      "\n",
      "section: General course-related questions\n",
      "question: Environment - Should I use my local machine, GCP, or GitHub Codespaces for my environment?\n",
      "answer: You can set it up on your laptop or PC if you prefer to work locally from your laptop or PC.\n",
      "You might face some challenges, especially for Windows users. If you face cnd2\n",
      "If you prefer to work on the local machine, you may start with the week 1 Introduction to Docker and follow through.\n",
      "However, if you prefer to set up a virtual machine, you may start with these first:\n",
      "Using GitHub Codespaces\n",
      "Setting up the environment on a cloudV Mcodespace\n",
      "I decided to work on a virtual machine because I have different laptops & PCs for my home & office, so I can work on this boot camp virtually anywhere.\n",
      "\n",
      "section: General course-related questions\n",
      "question: Environment - Is GitHub codespaces an alternative to using cli/git bash to ingest the data and create a docker file?\n",
      "answer: GitHub Codespaces offers you computing Linux resources with many pre-installed tools (Docker, Docker Compose, Python).\n",
      "You can also open any GitHub repository in a GitHub Codespace.\n",
      "\n",
      "section: General course-related questions\n",
      "question: Environment - Do we really have to use GitHub codespaces? I already have PostgreSQL & Docker installed.\n",
      "answer: It's up to you which platform and environment you use for the course.\n",
      "Github codespaces or GCP VM are just possible options, but you can do the entire course from your laptop.\n",
      "\n",
      "section: General course-related questions\n",
      "question: Environment - Do I need both GitHub Codespaces and GCP?\n",
      "answer: Choose the approach that aligns the most with your idea for the end project\n",
      "One of those should suffice. However, BigQuery, which is part of GCP, will be used, so learning that is probably a better option. Or you can set up a local environment for most of this course.\n",
      "\n",
      "section: General course-related questions\n",
      "question: This happens when attempting to connect to a GCP VM using VSCode on a Windows machine. Changing registry value in registry editor\n",
      "answer: 1. To open Run command window, you can either:\n",
      "(1-1) Use the shortcut keys: 'Windows + R', or\n",
      "(1-2) Right Click \"Start\", and click \"Run\" to open.\n",
      "2. Registry Values Located in Registry Editor, to open it: Type 'regedit' in the Run command window, and then press Enter.' 3. Now you can change the registry values \"Autorun\" in \"HKEY_CURRENT_USER\\Software\\Microsoft\\Command Processor\" from \"if exists\" to a blank.\n",
      "Alternatively, You can simplify the solution by deleting the fingerprint saved within the known_hosts file. In Windows, this file is placed at  C:\\Users\\<your_user_name>\\.ssh\\known_host\n",
      "\n",
      "section: General course-related questions\n",
      "question: Environment - Why are we using GCP and not other cloud providers?\n",
      "answer: For uniformity at least, but you’re not restricted to GCP, you can use other cloud platforms like AWS if you’re comfortable with other cloud platforms, since you get every service that’s been provided by GCP in Azure and AWS or others..\n",
      "Because everyone has a google account, GCP has a free trial period and gives $300 in credits  to new users. Also, we are working with BigQuery, which is a part of GCP.\n",
      "Note that to sign up for a free GCP account, you must have a valid credit card.\n",
      "\n",
      "section: General course-related questions\n",
      "question: Should I pay for cloud services?\n",
      "answer: No, if you use GCP and take advantage of their free trial.\n",
      "\n",
      "section: General course-related questions\n",
      "question: Environment - The GCP and other cloud providers are unavailable in some countries. Is it possible to provide a guide to installing a home lab?\n",
      "answer: You can do most of the course without a cloud. Almost everything we use (excluding BigQuery) can be run locally. We won’t be able to provide guidelines for some things, but most of the materials are runnable without GCP.\n",
      "For everything in the course, there’s a local alternative. You could even do the whole course locally.\n",
      "\n",
      "section: General course-related questions\n",
      "question: Environment - I want to use AWS. May I do that?\n",
      "answer: Yes, you can. Just remember to adapt all the information on the videos to AWS. Besides, the final capstone will be evaluated based on the task: Create a data pipeline! Develop a visualisation!\n",
      "The problem would be when you need help. You’d need to rely on  fellow coursemates who also use AWS (or have experience using it before), which might be in smaller numbers than those learning the course with GCP.\n",
      "Also see Is it possible to use x tool instead of the one tool you use?\n",
      "\n",
      "section: General course-related questions\n",
      "question: Besides the “Office Hour” which are the live zoom calls?\n",
      "answer: We will probably have some calls during the Capstone period to clear some questions but it will be announced in advance if that happens.\n",
      "\n",
      "section: General course-related questions\n",
      "question: Are we still using the NYC Trip data for January 2021? Or are we using the 2022 data?\n",
      "answer: We will use the same data, as the project will essentially remain the same as last year’s. The data is available here\n",
      "\n",
      "section: General course-related questions\n",
      "question: Is the 2022 repo deleted?\n",
      "answer: No, but we moved the 2022 stuff here\n",
      "\n",
      "section: General course-related questions\n",
      "question: Can I use Airflow instead for my final project?\n",
      "answer: Yes, you can use any tool you want for your project.\n",
      "\n",
      "section: General course-related questions\n",
      "question: Is it possible to use tool “X” instead of the one tool you use in the course?\n",
      "answer: Yes, this applies if you want to use Airflow or Prefect instead of Mage, AWS or Snowflake instead of GCP products or Tableau instead of Metabase or Google data studio.\n",
      "The course covers 2 alternative data stacks, one using GCP and one using local installation of everything. You can use one of them or use your tool of choice.\n",
      "Should you consider it instead of the one tool you use? That we can’t support you if you choose to use a different stack, also you would need to explain the different choices of tool for the peer review of your capstone project.\n",
      "\n",
      "section: General course-related questions\n",
      "question: How can we contribute to the course?\n",
      "answer: Star the repo! Share it with friends if you find it useful ❣️\n",
      "Create a PR if you see you can improve the text or the structure of the repository.\n",
      "\n",
      "section: General course-related questions\n",
      "question: Environment - Is the course [Windows/mac/Linux/...] friendly?\n",
      "answer: Yes! Linux is ideal but technically it should not matter. Students last year used all 3 OSes successfully\n",
      "\n",
      "section: General course-related questions\n",
      "question: Environment - Roadblock for Windows users in modules with *.sh (shell scripts).\n",
      "answer: Have no idea how past cohorts got past this as I haven't read old slack messages, and no FAQ entries that I can find.\n",
      "Later modules (module-05 & RisingWave workshop) use shell scripts in *.sh files and most Windows users not using WSL would hit a wall and cannot continue, even in git bash or MINGW64. This is why WSL environment setup is recommended from the start.\n",
      "\n",
      "section: General course-related questions\n",
      "question: Any books or additional resources you recommend?\n",
      "answer: Yes to both! check out this document: https://github.com/DataTalksClub/data-engineering-zoomcamp/blob/main/awesome-data-engineering.md\n",
      "\n",
      "section: General course-related questions\n",
      "question: Project - What is Project Attemp #1 and Project Attempt #2 exactly?\n",
      "answer: You will have two attempts for a project. If the first project deadline is over and you’re late or you submit the project and fail the first attempt, you have another chance to submit the project with the second attempt.\n",
      "\n",
      "section: General course-related questions\n",
      "question: How to troubleshoot issues\n",
      "answer: The first step is to try to solve the issue on your own. Get used to solving problems and reading documentation. This will be a real life skill you need when employed. [ctrl+f] is your friend, use it! It is a universal shortcut and works in all apps/browsers.\n",
      "What does the error say? There will often be a description of the error or instructions on what is needed or even how to fix it. I have even seen a link to the solution. Does it reference a specific line of your code?\n",
      "Restart app or server/pc.\n",
      "Google it, use ChatGPT, Bing AI etc.\n",
      "It is going to be rare that you are the first to have the problem, someone out there has posted the fly issue and likely the solution.\n",
      "Search using: <technology> <problem statement>. Example: pgcli error column c.relhasoids does not exist.\n",
      "There are often different solutions for the same problem due to variation in environments.\n",
      "Check the tech’s documentation. Use its search if available or use the browsers search function.\n",
      "Try uninstall (this may remove the bad actor) and reinstall of application or reimplementation of action. Remember to restart the server/pc for reinstalls.\n",
      "Sometimes reinstalling fails to resolve the issue but works if you uninstall first.\n",
      "Post your question to Stackoverflow. Read the Stackoverflow guide on posting good questions.\n",
      "https://stackoverflow.com/help/how-to-ask\n",
      "This will be your real life. Ask an expert in the future (in addition to coworkers).\n",
      "Ask in Slack\n",
      "Before asking a question,\n",
      "Check Pins (where the shortcut to the repo and this FAQ is located)\n",
      "Use the slack app’s search function\n",
      "Use the bot @ZoomcampQABot to do the search for you\n",
      "check the FAQ (this document), use search [ctrl+f]\n",
      "When asking a question, include as much information as possible:\n",
      "What are you coding on? What OS?\n",
      "What command did you run, which video did you follow? Etc etc\n",
      "What error did you get? Does it have a line number to the “offending” code and have you check it for typos?\n",
      "What have you tried that did not work? This answer is crucial as without it, helpers would ask you to do the suggestions in the error log first. Or just read this FAQ document.\n",
      "DO NOT use screenshots, especially don’t take pictures from a phone.\n",
      "DO NOT tag instructors, it may discourage others from helping you. Copy and paste errors; if it’s long, just post it in a reply to your thread.\n",
      "Use ``` for formatting your code.\n",
      "Use the same thread for the conversation (that means reply to your own thread).\n",
      "DO NOT create multiple posts to discuss the issue.\n",
      "learYou may create a new post if the issue reemerges down the road. Describe what has changed in the environment.\n",
      "Provide additional information in the same thread of the steps you have taken for resolution.\n",
      "Take a break and come back later. You will be amazed at how often you figure out the solution after letting your brain rest. Get some fresh air, workout, play a video game, watch a tv show, whatever allows your brain to not think about it for a little while or even until the next day.\n",
      "Remember technology issues in real life sometimes take days or even weeks to resolve.\n",
      "If somebody helped you with your problem and it's not in the FAQ, please add it there. It will help other students.\n",
      "\n",
      "section: General course-related questions\n",
      "question: How to ask questions\n",
      "answer: When the troubleshooting guide above does not help resolve it and you need another pair of eyeballs to spot mistakes. When asking a question, include as much information as possible:\n",
      "What are you coding on? What OS?\n",
      "What command did you run, which video did you follow? Etc etc\n",
      "What error did you get? Does it have a line number to the “offending” code and have you check it for typos?\n",
      "What have you tried that did not work? This answer is crucial as without it, helpers would ask you to do the suggestions in the error log first. Or just read this FAQ document.\n",
      "\n",
      "section: General course-related questions\n",
      "question: How do I use Git / GitHub for this course?\n",
      "answer: After you create a GitHub account, you should clone the course repo to your local machine using the process outlined in this video: Git for Everybody: How to Clone a Repository from GitHub\n",
      "Having this local repository on your computer will make it easy for you to access the instructors’ code and make pull requests (if you want to add your own notes or make changes to the course content).\n",
      "You will probably also create your own repositories that host your notes, versions of your file, to do this. Here is a great tutorial that shows you how to do this: https://www.atlassian.com/git/tutorials/setting-up-a-repository\n",
      "Remember to ignore large database, .csv, and .gz files, and other files that should not be saved to a repository. Use .gitignore for this: https://www.atlassian.com/git/tutorials/saving-changes/gitignore NEVER store passwords or keys in a git repo (even if that repo is set to private).\n",
      "This is also a great resource: https://dangitgit.com/\n",
      "\n",
      "section: General course-related questions\n",
      "question: VS Code: Tab using spaces\n",
      "answer: Error: Makefile:2: *** missing separator.  Stop.\n",
      "Solution: Tabs in document should be converted to Tab instead of spaces. Follow this stack.\n",
      "\n",
      "section: General course-related questions\n",
      "question: Opening an HTML file with a Windows browser from Linux running on WSL\n",
      "answer: If you’re running Linux on Windows Subsystem for Linux (WSL) 2, you can open HTML files from the guest (Linux) with whatever Internet Browser you have installed on the host (Windows). Just install wslu and open the page with wslview <file>, for example:\n",
      "wslview index.html\n",
      "You can customise which browser to use by setting the BROWSER environment variable first. For example:\n",
      "export BROWSER='/mnt/c/Program Files/Firefox/firefox.exe'\n",
      "\n",
      "section: Module 1: Docker and Terraform\n",
      "question: Set up Chrome Remote Desktop for Linux on Compute Engine\n",
      "answer: This tutorial shows you how to set up the Chrome Remote Desktop service on a Debian Linux virtual machine (VM) instance on Compute Engine. Chrome Remote Desktop allows you to remotely access applications with a graphical user interface.\n",
      "Taxi Data - Yellow Taxi Trip Records downloading error, Error no or XML error webpage\n",
      "When you try to download the 2021 data from TLC website, you get this error:\n",
      "If you click on the link, and ERROR 403: Forbidden on the terminal.\n",
      "We have a backup, so use it instead: https://github.com/DataTalksClub/nyc-tlc-data\n",
      "So the link should be https://github.com/DataTalksClub/nyc-tlc-data/releases/download/yellow/yellow_tripdata_2021-01.csv.gz\n",
      "Note: Make sure to unzip the “gz” file (no, the “unzip” command won’t work for this.)\n",
      "“gzip -d file.gz”g\n",
      "\n",
      "section: Module 1: Docker and Terraform\n",
      "question: Taxi Data - How to handle taxi data files, now that the files are available as *.csv.gz?\n",
      "answer: In this video, we store the data file as “output.csv”. The data file won’t store correctly if the file extension is csv.gz instead of csv. One alternative is to replace csv_name = “output.cs -v” with the file name given at the end of the URL. Notice that the URL for the yellow taxi data is: https://github.com/DataTalksClub/nyc-tlc-data/releases/download/yellow/yellow_tripdata_2021-01.csv.gz where the highlighted part is the name of the file. We can parse this file name from the URL and use it as csv_name. That is, we can replace csv_name = “output.csv” with\n",
      "csv_name = url.split(“/”)[-1] . Then when we use csv_name to using pd.read_csv, there won’t be an issue even though the file name really has the extension csv.gz instead of csv since the pandas read_csv function can read csv.gz files directly.\n",
      "\n",
      "section: Module 1: Docker and Terraform\n",
      "question: Taxi Data - Data Dictionary for NY Taxi data?\n",
      "answer: Yellow Trips: https://www1.nyc.gov/assets/tlc/downloads/pdf/data_dictionary_trip_records_yellow.pdf\n",
      "Green Trips: https://www1.nyc.gov/assets/tlc/downloads/pdf/data_dictionary_trip_records_green.pdf\n",
      "\n",
      "section: Module 1: Docker and Terraform\n",
      "question: Taxi Data - Unzip Parquet file\n",
      "answer: You can unzip this downloaded parquet file, in the command line. The result is a csv file which can be imported with pandas using the pd.read_csv() shown in the videos.\n",
      "‘’’gunzip green_tripdata_2019-09.csv.gz’’’\n",
      "SOLUTION TO USING PARQUET FILES DIRECTLY IN PYTHON SCRIPT ingest_data.py\n",
      "In the def main(params) add this line\n",
      "parquet_name= 'output.parquet'\n",
      "Then edit the code which downloads the files\n",
      "os.system(f\"wget {url} -O {parquet_name}\")\n",
      "Convert the download .parquet file to csv and rename as csv_name to keep it relevant to the rest of the code\n",
      "df = pd.read_parquet(parquet_name)\n",
      "df.to_csv(csv_name, index=False)\n",
      "\n",
      "section: Module 1: Docker and Terraform\n",
      "question: lwget is not recognized as an internal or external command\n",
      "answer: “wget is not recognized as an internal or external command”, you need to install it.\n",
      "On Ubuntu, run:\n",
      "$ sudo apt-get install wget\n",
      "On MacOS, the easiest way to install wget is to use Brew:\n",
      "$ brew install wget\n",
      "On Windows, the easiest way to install wget is to use Chocolatey:\n",
      "$ choco install wget\n",
      "Or you can download a binary (https://gnuwin32.sourceforge.net/packages/wget.htm) and put it to any location in your PATH (e.g. C:/tools/)\n",
      "Also, you can following this step to install Wget on MS Windows\n",
      "* Download the latest wget binary for windows from [eternallybored] (https://eternallybored.org/misc/wget/) (they are available as a zip with documentation, or just an exe)\n",
      "* If you downloaded the zip, extract all (if windows built in zip utility gives an error, use [7-zip] (https://7-zip.org/)).\n",
      "* Rename the file `wget64.exe` to `wget.exe` if necessary.\n",
      "* Move wget.exe to your `Git\\mingw64\\bin\\`.\n",
      "Alternatively, you can use a Python wget library, but instead of simply using “wget” you’ll need to use\n",
      "python -m wget\n",
      "You need to install it with pip first:\n",
      "pip install wget\n",
      "Alternatively, you can just paste the file URL into your web browser and download the file normally that way. You’ll want to move the resulting file into your working directory.\n",
      "Also recommended a look at the python library requests for the loading gz file  https://pypi.org/project/requests\n",
      "\n",
      "section: Module 1: Docker and Terraform\n",
      "question: wget - ERROR: cannot verify <website> certificate  (MacOS)\n",
      "answer: Firstly, make sure that you add “!” before wget if you’re running your command in a Jupyter Notebook or CLI. Then, you can check one of this 2 things (from CLI):\n",
      "Using the Python library wget you installed with pip, try python -m wget <url>\n",
      "Write the usual command and add --no-check-certificate at the end. So it should be:\n",
      "!wget <website_url> --no-check-certificate\n",
      "\n",
      "section: Module 1: Docker and Terraform\n",
      "question: Git Bash - Backslash as an escape character in Git Bash for Windows\n",
      "answer: For those who wish to use the backslash as an escape character in Git Bash for Windows (as Alexey normally does), type in the terminal: bash.escapeChar=\\ (no need to include in .bashrc)\n"
     ]
    }
   ],
   "source": [
    "print(prompt)"
   ]
  },
  {
   "cell_type": "code",
   "execution_count": 59,
   "id": "3985878e-339a-499e-aaf4-927fb4fed039",
   "metadata": {},
   "outputs": [],
   "source": [
    "responseLLM = client.chat.completions.create(\n",
    "    model='gpt-4o',\n",
    "    messages=[{\"role\" : \"user\", \"content\" : prompt}]\n",
    ")"
   ]
  },
  {
   "cell_type": "code",
   "execution_count": 60,
   "id": "bce92bc8-8973-48da-aafb-2e5600fab3f0",
   "metadata": {},
   "outputs": [
    {
     "data": {
      "text/plain": [
       "\"Yes, you can still join the course even after the start date. According to the provided context, even if you don't register, you are still eligible to submit the homeworks. However, please be aware that there will be deadlines for turning in the final projects, so it's advisable not to leave everything for the last minute.\\n\\nIf you need any assistance or have further questions, feel free to reach out. Welcome to the course! 😊\""
      ]
     },
     "execution_count": 60,
     "metadata": {},
     "output_type": "execute_result"
    }
   ],
   "source": [
    "responseLLM.choices[0].message.content"
   ]
  },
  {
   "cell_type": "code",
   "execution_count": null,
   "id": "1f1acab8-a51d-491f-ad30-9c7231c07f94",
   "metadata": {},
   "outputs": [],
   "source": []
  }
 ],
 "metadata": {
  "kernelspec": {
   "display_name": "Python 3 (ipykernel)",
   "language": "python",
   "name": "python3"
  },
  "language_info": {
   "codemirror_mode": {
    "name": "ipython",
    "version": 3
   },
   "file_extension": ".py",
   "mimetype": "text/x-python",
   "name": "python",
   "nbconvert_exporter": "python",
   "pygments_lexer": "ipython3",
   "version": "3.10.13"
  }
 },
 "nbformat": 4,
 "nbformat_minor": 5
}
